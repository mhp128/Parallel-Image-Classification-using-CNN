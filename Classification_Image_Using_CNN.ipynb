{
  "nbformat": 4,
  "nbformat_minor": 0,
  "metadata": {
    "colab": {
      "provenance": []
    },
    "kernelspec": {
      "name": "python3",
      "display_name": "Python 3"
    },
    "language_info": {
      "name": "python"
    },
    "gpuClass": "standard",
    "accelerator": "GPU"
  },
  "cells": [
    {
      "cell_type": "code",
      "source": [
        "import numpy as np\n",
        "from CNNModel import CNNModel\n",
        "from layers import Convolution, Flatten, MaxPool2D, Dense"
      ],
      "metadata": {
        "id": "aTaJivV_W9Zz"
      },
      "execution_count": 117,
      "outputs": []
    },
    {
      "cell_type": "code",
      "source": [
        "!git clone https://github.com/mhp128/Parallel-Image-Classification-using-CNN.git\n",
        "!mv Parallel-Image-Classification-using-CNN/kernels.py kernels.py\n",
        "!mv Parallel-Image-Classification-using-CNN/layers.py layers.py\n",
        "!mv Parallel-Image-Classification-using-CNN/CNNModel.py CNNModel.py\n",
        "!rm -r Parallel-Image-Classification-using-CNN"
      ],
      "metadata": {
        "id": "1FKzEcMSgqSh"
      },
      "execution_count": null,
      "outputs": []
    },
    {
      "cell_type": "markdown",
      "source": [
        "# CONVOLUTION"
      ],
      "metadata": {
        "id": "yLy6jU_KWsBM"
      }
    },
    {
      "cell_type": "code",
      "source": [
        "inputs=np.random.randint(1,255, (64,100, 100,3))/255\n",
        "conv =Convolution(n_filters=32, filter_size=3, stride=1,activation='relu',input_shape=(100,100,3))"
      ],
      "metadata": {
        "id": "ZvuSG7dnDirT"
      },
      "execution_count": 35,
      "outputs": []
    },
    {
      "cell_type": "markdown",
      "source": [
        "#### Forward test"
      ],
      "metadata": {
        "id": "nGZqH4QFlsRy"
      }
    },
    {
      "cell_type": "code",
      "source": [
        "%%time\n",
        "#Use Deivce \n",
        "conv.use_device=True\n",
        "outputs_host=conv.forward(inputs)"
      ],
      "metadata": {
        "colab": {
          "base_uri": "https://localhost:8080/"
        },
        "id": "p3PJTC50D-DN",
        "outputId": "176b8006-0751-412f-b7be-d46ed96ccb1d"
      },
      "execution_count": 36,
      "outputs": [
        {
          "output_type": "stream",
          "name": "stdout",
          "text": [
            "CPU times: user 78.1 ms, sys: 42 ms, total: 120 ms\n",
            "Wall time: 122 ms\n"
          ]
        }
      ]
    },
    {
      "cell_type": "code",
      "source": [
        "%%time\n",
        "#Use Host\n",
        "conv.use_device=False\n",
        "outputs_device=conv.forward(inputs)"
      ],
      "metadata": {
        "colab": {
          "base_uri": "https://localhost:8080/"
        },
        "id": "Wk7YRJZFEA4Q",
        "outputId": "1d97168a-4e04-4d69-ddcb-4166c723bd8a"
      },
      "execution_count": 37,
      "outputs": [
        {
          "output_type": "stream",
          "name": "stdout",
          "text": [
            "CPU times: user 2min 24s, sys: 423 ms, total: 2min 24s\n",
            "Wall time: 2min 31s\n"
          ]
        }
      ]
    },
    {
      "cell_type": "code",
      "source": [
        "print(\"Loss:\",np.sum(np.abs(outputs_device-outputs_host)))"
      ],
      "metadata": {
        "colab": {
          "base_uri": "https://localhost:8080/"
        },
        "id": "Kp3yWCsFECP2",
        "outputId": "82e141df-5c12-446b-ad73-d2c4aa0e15cb"
      },
      "execution_count": 38,
      "outputs": [
        {
          "output_type": "stream",
          "name": "stdout",
          "text": [
            "Loss: 5.094799774074953e-10\n"
          ]
        }
      ]
    },
    {
      "cell_type": "markdown",
      "source": [
        "#### Backward test"
      ],
      "metadata": {
        "id": "Sxr1-ZsVlwrS"
      }
    },
    {
      "cell_type": "code",
      "source": [
        "%%time\n",
        "conv.use_device=True\n",
        "input_device=conv.backward(outputs_device,0.001)"
      ],
      "metadata": {
        "colab": {
          "base_uri": "https://localhost:8080/"
        },
        "id": "98lTsljRwEf_",
        "outputId": "d79ace74-adc2-4e26-e0c5-b217b29e09f2"
      },
      "execution_count": 41,
      "outputs": [
        {
          "output_type": "stream",
          "name": "stdout",
          "text": [
            "CPU times: user 508 ms, sys: 0 ns, total: 508 ms\n",
            "Wall time: 507 ms\n"
          ]
        }
      ]
    },
    {
      "cell_type": "code",
      "source": [
        "%%time\n",
        "conv.use_device=False\n",
        "input_device=conv.backward(outputs_device,0.001)"
      ],
      "metadata": {
        "colab": {
          "base_uri": "https://localhost:8080/"
        },
        "id": "dV_34PvQnGJs",
        "outputId": "dd0e4c77-9eeb-4205-aed5-9464daee87c6"
      },
      "execution_count": 42,
      "outputs": [
        {
          "output_type": "stream",
          "name": "stdout",
          "text": [
            "CPU times: user 11min 52s, sys: 1.81 s, total: 11min 53s\n",
            "Wall time: 12min 24s\n"
          ]
        }
      ]
    },
    {
      "cell_type": "markdown",
      "source": [
        "# MAX POOLING\n"
      ],
      "metadata": {
        "id": "rN006s-b19IP"
      }
    },
    {
      "cell_type": "code",
      "source": [
        "inputs=np.random.randint(1,255, (64,100, 100,32))/255\n",
        "pool = MaxPool2D(input_shape=inputs.shape[1:])"
      ],
      "metadata": {
        "id": "ozpzGIInM6No"
      },
      "execution_count": 43,
      "outputs": []
    },
    {
      "cell_type": "markdown",
      "source": [
        "#### Forward test"
      ],
      "metadata": {
        "id": "0TBlGedImQv2"
      }
    },
    {
      "cell_type": "code",
      "source": [
        "%%time\n",
        "pool.use_device=False\n",
        "out1= pool.forward(inputs)"
      ],
      "metadata": {
        "colab": {
          "base_uri": "https://localhost:8080/"
        },
        "id": "dj3t1QM6MtQK",
        "outputId": "653d2265-99d3-4a6b-dd94-7cc70abf6bff"
      },
      "execution_count": 44,
      "outputs": [
        {
          "output_type": "stream",
          "name": "stdout",
          "text": [
            "CPU times: user 1.25 s, sys: 74.2 ms, total: 1.32 s\n",
            "Wall time: 1.27 s\n"
          ]
        }
      ]
    },
    {
      "cell_type": "code",
      "source": [
        "%%time \n",
        "pool.use_device=True\n",
        "out=pool.forward(inputs)"
      ],
      "metadata": {
        "colab": {
          "base_uri": "https://localhost:8080/"
        },
        "id": "rzL9pSIkmVSk",
        "outputId": "787f1322-1125-46e0-f831-069be5be1afb"
      },
      "execution_count": 46,
      "outputs": [
        {
          "output_type": "stream",
          "name": "stdout",
          "text": [
            "CPU times: user 64.4 ms, sys: 16 ms, total: 80.4 ms\n",
            "Wall time: 81.3 ms\n"
          ]
        }
      ]
    },
    {
      "cell_type": "markdown",
      "source": [
        "#### Backward Test"
      ],
      "metadata": {
        "id": "FGC8VYOnna6u"
      }
    },
    {
      "cell_type": "code",
      "source": [
        "%%time\n",
        "pool.use_device=False\n",
        "in_host=pool.backward(out1,0.001)"
      ],
      "metadata": {
        "colab": {
          "base_uri": "https://localhost:8080/"
        },
        "id": "FzMoBWsuMQbU",
        "outputId": "d6509e26-0a1c-40c4-b4df-e875b11238cb"
      },
      "execution_count": 47,
      "outputs": [
        {
          "output_type": "stream",
          "name": "stdout",
          "text": [
            "CPU times: user 3.87 s, sys: 412 ms, total: 4.28 s\n",
            "Wall time: 4 s\n"
          ]
        }
      ]
    },
    {
      "cell_type": "code",
      "source": [
        "%%time\n",
        "pool.use_device=True\n",
        "in_device=pool.backward(out1,0.001)"
      ],
      "metadata": {
        "colab": {
          "base_uri": "https://localhost:8080/"
        },
        "id": "Ge_4-yhHUTZa",
        "outputId": "99038feb-27c7-4e33-bd8f-ed904a0b44cf"
      },
      "execution_count": 49,
      "outputs": [
        {
          "output_type": "stream",
          "name": "stdout",
          "text": [
            "CPU times: user 78.2 ms, sys: 27 ms, total: 105 ms\n",
            "Wall time: 104 ms\n"
          ]
        }
      ]
    },
    {
      "cell_type": "code",
      "source": [
        "print(\"Loss:\",np.sum(np.abs(in_host-in_device)))"
      ],
      "metadata": {
        "colab": {
          "base_uri": "https://localhost:8080/"
        },
        "id": "KArDGa3Ddlj9",
        "outputId": "3ac113e7-4776-46e1-aa05-17a7c599cea4"
      },
      "execution_count": null,
      "outputs": [
        {
          "output_type": "execute_result",
          "data": {
            "text/plain": [
              "0.0"
            ]
          },
          "metadata": {},
          "execution_count": 660
        }
      ]
    },
    {
      "cell_type": "markdown",
      "source": [
        "# Dense"
      ],
      "metadata": {
        "id": "jnjT5Q5aWzzK"
      }
    },
    {
      "cell_type": "code",
      "source": [
        "inputs=np.random.randint(1,255, (256,10000))/255\n",
        "dense=Dense(1024, input_shape= 10000)"
      ],
      "metadata": {
        "id": "CN3ETrzukBf0"
      },
      "execution_count": 60,
      "outputs": []
    },
    {
      "cell_type": "markdown",
      "source": [
        "#### Forward test"
      ],
      "metadata": {
        "id": "5Xwcy4QOo7TF"
      }
    },
    {
      "cell_type": "code",
      "source": [
        "%%time\n",
        "dense.use_device=True\n",
        "out_device=dense.forward(inputs)"
      ],
      "metadata": {
        "colab": {
          "base_uri": "https://localhost:8080/"
        },
        "id": "_eRGhasXkNuD",
        "outputId": "3176f5b0-0701-4a03-dd9f-6d668ff69b64"
      },
      "execution_count": 61,
      "outputs": [
        {
          "output_type": "stream",
          "name": "stdout",
          "text": [
            "CPU times: user 151 ms, sys: 995 µs, total: 152 ms\n",
            "Wall time: 156 ms\n"
          ]
        }
      ]
    },
    {
      "cell_type": "code",
      "source": [
        "%%time\n",
        "dense.use_device=False\n",
        "out_host=dense.forward(inputs)"
      ],
      "metadata": {
        "colab": {
          "base_uri": "https://localhost:8080/"
        },
        "id": "O25Wq20WofER",
        "outputId": "fcae79b3-e12b-411c-e543-8ca7cdaec3ba"
      },
      "execution_count": 62,
      "outputs": [
        {
          "output_type": "stream",
          "name": "stdout",
          "text": [
            "CPU times: user 269 ms, sys: 6.9 ms, total: 276 ms\n",
            "Wall time: 144 ms\n"
          ]
        }
      ]
    },
    {
      "cell_type": "markdown",
      "source": [
        "#### Backward test"
      ],
      "metadata": {
        "id": "QI9YE3R3o-rE"
      }
    },
    {
      "cell_type": "code",
      "source": [
        "# %%time\n",
        "# dense.use_device=False\n",
        "# in_host=dense.backward(out_device,0.01)"
      ],
      "metadata": {
        "id": "itzLNrM41Z4f"
      },
      "execution_count": 58,
      "outputs": []
    },
    {
      "cell_type": "code",
      "source": [
        "# %%time\n",
        "# dense.use_device=True\n",
        "# in_device=dense.backward(out_device,0.01)"
      ],
      "metadata": {
        "id": "0NjAg17Io5gx"
      },
      "execution_count": 59,
      "outputs": []
    },
    {
      "cell_type": "markdown",
      "source": [
        "# BUILD MODEL AND TRAINING ON DEVICE"
      ],
      "metadata": {
        "id": "RYqhW7eQpfOg"
      }
    },
    {
      "cell_type": "code",
      "source": [
        "from keras.datasets import mnist"
      ],
      "metadata": {
        "id": "9ueKLKouiofv"
      },
      "execution_count": 63,
      "outputs": []
    },
    {
      "cell_type": "code",
      "source": [
        "(train_X, train_y), (test_X, test_y) = mnist.load_data()\n",
        "y_train = np.zeros((len(train_y),10))\n",
        "y_test = np.zeros((len(test_y),10))\n",
        "for i in range (len(y_train)):\n",
        "  y_train[i,train_y[i]]=1\n",
        "for i in range (len(y_test)):\n",
        "  y_test[i,test_y[i]]=1\n",
        "x_train=train_X.reshape(train_X.shape[0], train_X.shape[1], train_X.shape[2], 1)\n",
        "x_test=test_X.reshape(test_X.shape[0], test_X.shape[1], test_X.shape[2], 1)\n",
        "x_train=x_train/255\n",
        "x_test=x_test/255"
      ],
      "metadata": {
        "id": "BlC3PcMbirR2"
      },
      "execution_count": 113,
      "outputs": []
    },
    {
      "cell_type": "code",
      "source": [
        "model=CNNModel([ \n",
        "    Convolution(n_filters=16, filter_size=3, stride=1,activation='relu',input_shape=(28,28,1)),\n",
        "    MaxPool2D(pool_size=2),\n",
        "    Convolution(n_filters=32, filter_size=3, stride=1,activation='relu'),\n",
        "    Flatten(),\n",
        "    Dense(128),\n",
        "    Dense(10, activation='softmax')\n",
        "])\n",
        "model.use_device(True)"
      ],
      "metadata": {
        "id": "wvJkWRtLyHWO"
      },
      "execution_count": 89,
      "outputs": []
    },
    {
      "cell_type": "code",
      "source": [
        "%%time\n",
        "model.fit(x_train,y_train, epochs=5, batch_size=128)"
      ],
      "metadata": {
        "id": "cyKXI8MMpvHY",
        "colab": {
          "base_uri": "https://localhost:8080/"
        },
        "outputId": "24a99116-2829-42ed-a198-a5538a340eb1"
      },
      "execution_count": 90,
      "outputs": [
        {
          "output_type": "stream",
          "name": "stdout",
          "text": [
            "\n",
            "Epoch 1/5:\n",
            " 469/469 [==============================] accuaray: 0.89795, train loss = 0.15327\n",
            "Epoch 2/5:\n",
            " 469/469 [==============================] accuaray: 0.95569, train loss = 0.06502\n",
            "Epoch 3/5:\n",
            " 469/469 [==============================] accuaray: 0.96460, train loss = 0.05177\n",
            "Epoch 4/5:\n",
            " 469/469 [==============================] accuaray: 0.96763, train loss = 0.04638\n",
            "Epoch 5/5:\n",
            " 469/469 [==============================] accuaray: 0.96292, train loss = 0.05367CPU times: user 3min 22s, sys: 2min 24s, total: 5min 47s\n",
            "Wall time: 3min 20s\n"
          ]
        }
      ]
    },
    {
      "cell_type": "code",
      "source": [
        "model.use_device(True)\n",
        "%time y_predict_device =model.predict(x_test)"
      ],
      "metadata": {
        "colab": {
          "base_uri": "https://localhost:8080/"
        },
        "id": "egKQdEzh55bC",
        "outputId": "60e289e9-b57d-45ad-abf3-aa8972c9a4bc"
      },
      "execution_count": 122,
      "outputs": [
        {
          "output_type": "stream",
          "name": "stdout",
          "text": [
            "CPU times: user 2.07 s, sys: 298 ms, total: 2.37 s\n",
            "Wall time: 2.36 s\n"
          ]
        }
      ]
    },
    {
      "cell_type": "code",
      "source": [
        "model.use_device(False)\n",
        "%time y_predict_host =model.predict(x_test)"
      ],
      "metadata": {
        "colab": {
          "base_uri": "https://localhost:8080/"
        },
        "id": "cj-zLWKgl08S",
        "outputId": "5da94346-d780-4b74-f4b2-29b605c4eb21"
      },
      "execution_count": 123,
      "outputs": [
        {
          "output_type": "stream",
          "name": "stdout",
          "text": [
            "CPU times: user 17min 2s, sys: 3.46 s, total: 17min 5s\n",
            "Wall time: 17min 9s\n"
          ]
        }
      ]
    },
    {
      "cell_type": "code",
      "source": [
        "print(\"Loss\",np.mean(np.abs(y_predict_device - y_predict_host)))"
      ],
      "metadata": {
        "colab": {
          "base_uri": "https://localhost:8080/"
        },
        "id": "hGFdFMXuwynh",
        "outputId": "222417a9-1811-42dc-fd04-d967d12a1df7"
      },
      "execution_count": 124,
      "outputs": [
        {
          "output_type": "stream",
          "name": "stdout",
          "text": [
            "Loss 1.101404419095218e-17\n"
          ]
        }
      ]
    },
    {
      "cell_type": "code",
      "source": [
        "accuracy=np.mean(np.argmax(y_predict_device,axis=1) ==  test_y)\n",
        "print(\"Accuracy\",accuracy)"
      ],
      "metadata": {
        "id": "4jUcCt7v2Bks",
        "colab": {
          "base_uri": "https://localhost:8080/"
        },
        "outputId": "663e3351-5ded-46a5-900e-3b1a07e42792"
      },
      "execution_count": 125,
      "outputs": [
        {
          "output_type": "stream",
          "name": "stdout",
          "text": [
            "Accuracy 0.9574\n"
          ]
        }
      ]
    },
    {
      "cell_type": "code",
      "source": [
        "import matplotlib.pyplot as plt"
      ],
      "metadata": {
        "id": "sO3ZvIQGzEWt"
      },
      "execution_count": 118,
      "outputs": []
    },
    {
      "cell_type": "code",
      "source": [
        "n=11\n",
        "plt.title(f'Số {np.argmax(y_predict_device[n])}')\n",
        "plt.imshow(x_test[n])\n",
        "plt.show()"
      ],
      "metadata": {
        "colab": {
          "base_uri": "https://localhost:8080/",
          "height": 452
        },
        "id": "V-zFeRjAAxJx",
        "outputId": "03bda579-8346-45a0-f7f5-ccbc0b79ae2c"
      },
      "execution_count": 121,
      "outputs": [
        {
          "output_type": "display_data",
          "data": {
            "text/plain": [
              "<Figure size 640x480 with 1 Axes>"
            ],
            "image/png": "[encoded data removed]"
          },
          "metadata": {}
        }
      ]
    }
  ]
}